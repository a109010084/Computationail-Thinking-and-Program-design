{
  "nbformat": 4,
  "nbformat_minor": 0,
  "metadata": {
    "colab": {
      "name": "柯又甄-week11-隨堂練習",
      "provenance": [],
      "authorship_tag": "ABX9TyP90ZsLIv/xQpDpf8IqXFAm",
      "include_colab_link": true
    },
    "kernelspec": {
      "name": "python3",
      "display_name": "Python 3"
    },
    "language_info": {
      "name": "python"
    }
  },
  "cells": [
    {
      "cell_type": "markdown",
      "metadata": {
        "id": "view-in-github",
        "colab_type": "text"
      },
      "source": [
        "<a href=\"https://colab.research.google.com/github/a109010084/Computationail-Thinking-and-Program-design/blob/main/%E6%9F%AF%E5%8F%88%E7%94%84_week11_%E9%9A%A8%E5%A0%82%E7%B7%B4%E7%BF%92.ipynb\" target=\"_parent\"><img src=\"https://colab.research.google.com/assets/colab-badge.svg\" alt=\"Open In Colab\"/></a>"
      ]
    },
    {
      "cell_type": "code",
      "metadata": {
        "colab": {
          "base_uri": "https://localhost:8080/"
        },
        "id": "LcrqLZqEq0lk",
        "outputId": "226b5692-ec6d-499c-f50e-7fc88a18f5d8"
      },
      "source": [
        "## Input\n",
        "\n",
        "number = input(\"Enter the last digit of ID card:\")\n",
        "number = int(number)\n",
        "\n",
        "##Process\n",
        "print(number % 2 == 1)\n",
        "\n",
        "##output\n",
        "print(\",,,,,,,\")\n"
      ],
      "execution_count": 1,
      "outputs": [
        {
          "output_type": "stream",
          "text": [
            "Enter the last digit of ID card:1\n",
            "True\n",
            ",,,,,,,\n"
          ],
          "name": "stdout"
        }
      ]
    },
    {
      "cell_type": "markdown",
      "metadata": {
        "id": "LkukA4UPwocS"
      },
      "source": [
        "組員:林珮瑜A109010156 賴沛菁A109010138 柯又甄A109010084\n",
        "組長:賴沛菁\n",
        "題目:心靈雞湯機器人"
      ]
    }
  ]
}