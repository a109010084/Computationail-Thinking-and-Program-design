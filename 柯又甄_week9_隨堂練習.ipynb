{
  "nbformat": 4,
  "nbformat_minor": 0,
  "metadata": {
    "colab": {
      "name": "柯又甄-week9-隨堂練習.ipynb",
      "provenance": [],
      "authorship_tag": "ABX9TyMmjlqu+IhNdIQ6F7jttXe3",
      "include_colab_link": true
    },
    "kernelspec": {
      "name": "python3",
      "display_name": "Python 3"
    },
    "language_info": {
      "name": "python"
    }
  },
  "cells": [
    {
      "cell_type": "markdown",
      "metadata": {
        "id": "view-in-github",
        "colab_type": "text"
      },
      "source": [
        "<a href=\"https://colab.research.google.com/github/a109010084/Computationail-Thinking-and-Program-design/blob/main/%E6%9F%AF%E5%8F%88%E7%94%84_week9_%E9%9A%A8%E5%A0%82%E7%B7%B4%E7%BF%92.ipynb\" target=\"_parent\"><img src=\"https://colab.research.google.com/assets/colab-badge.svg\" alt=\"Open In Colab\"/></a>"
      ]
    },
    {
      "cell_type": "code",
      "metadata": {
        "colab": {
          "base_uri": "https://localhost:8080/"
        },
        "id": "JAqIrm2Ph4lZ",
        "outputId": "d775700a-9565-4541-9765-b84ed2dbb1e1"
      },
      "source": [
        "name = \"ggggggg\"\n",
        "birthday = \"20210707\"\n",
        "birthplace = \"korea\"\n",
        "occupation = \"worker\"\n",
        "print(\"python創始人檔案:\\n 名字:ggggggg\\n 生日:20210707\\n 出生地:korea\\n 職業:worker\\n\")"
      ],
      "execution_count": 9,
      "outputs": [
        {
          "output_type": "stream",
          "text": [
            "python創始人檔案:\n",
            " 名字:ggggggg\n",
            " 生日:20210707\n",
            " 出生地:korea\n",
            " 職業:worker\n",
            "\n"
          ],
          "name": "stdout"
        }
      ]
    },
    {
      "cell_type": "code",
      "metadata": {
        "id": "AVNtTU8YnJ2W"
      },
      "source": [
        "time = 123\n",
        "hours = time/60 # 123/60 = 2.05\n",
        "hours1 = int(hours)\n",
        "\n",
        "minutes = hours1 - hours\n",
        "minutes1 = round(minutes*60)"
      ],
      "execution_count": 15,
      "outputs": []
    },
    {
      "cell_type": "code",
      "metadata": {
        "colab": {
          "base_uri": "https://localhost:8080/"
        },
        "id": "zgEhUvxJoxUO",
        "outputId": "7aea7c88-56aa-4ea7-d047-b5a827d66d79"
      },
      "source": [
        "sum = 0\n",
        "sum = sum + (6*60 + 32)\n",
        "print(\"用時\",sum//60,\"分\",sum%60,sum%60,\"秒\")\n",
        "\n",
        "sum = sum + (7*60 + 21)\n",
        "print(\"用時\",sum//60,\"分\",sum%60,sum%60,\"秒\")\n",
        "\n",
        "sum = sum + (5*60 + 51)\n",
        "print(\"用時\",sum//60,\"分\",sum%60,sum%60,\"秒\")\n",
        "\n",
        "sum = sum + (7*60 + 3)\n",
        "print(\"用時\",sum//60,\"分\",sum%60,sum%60,\"秒\")\n",
        "\n",
        "sum = sum + (5*60 + 48)\n",
        "print(\"用時\",sum//60,\"分\",sum%60,sum%60,\"秒\")"
      ],
      "execution_count": 20,
      "outputs": [
        {
          "output_type": "stream",
          "text": [
            "用時 6 分 32 32 秒\n",
            "用時 13 分 53 53 秒\n",
            "用時 19 分 44 44 秒\n",
            "用時 26 分 47 47 秒\n",
            "用時 32 分 35 35 秒\n"
          ],
          "name": "stdout"
        }
      ]
    },
    {
      "cell_type": "code",
      "metadata": {
        "colab": {
          "base_uri": "https://localhost:8080/"
        },
        "id": "dmVKoLIctDCR",
        "outputId": "933addfd-d9b9-43d7-899d-9fa66a410b5c"
      },
      "source": [
        "seats = int(input(\"請輸入座號？ \"))\n",
        "if seats%5 == 0:\n",
        "    print(\"組別為\", seats//5)\n",
        "else:\n",
        "    print(\"組別為\", seats//5 +1)"
      ],
      "execution_count": 25,
      "outputs": [
        {
          "output_type": "stream",
          "text": [
            "請輸入座號？ 5\n",
            "組別為 1\n"
          ],
          "name": "stdout"
        }
      ]
    },
    {
      "cell_type": "code",
      "metadata": {
        "colab": {
          "base_uri": "https://localhost:8080/"
        },
        "id": "95exCndVwNrn",
        "outputId": "ad27043f-2d8f-41eb-8930-e7d1fb849f23"
      },
      "source": [
        "print(\"哈囉，大家好。我叫Zyxo64，是一個聊天機器人。\")\n",
        "hobby = \"我很喜歡美食東西，也喜歡養動物。今天很高興有機會來到世新大學，請大家多多指教。\"\n",
        "print( hobby )\n",
        "\n",
        "name = input(\"嗨！妳好，請問大名？: \")\n",
        "print(\"你好\", name, \"很高興認識你\")\n",
        "\n",
        "year = input(\"請問一下今年是西元2021年，那是民國幾年呢？ \")\n",
        "print(\"對！應該沒錯，謝謝妳！\")\n",
        "\n",
        "myage = int(input(\"Francis，猜猜看我今年幾歲？ \"))\n",
        "print(\"哇！你好聰明，我今年的確\", myage)\n",
        "\n",
        "nyears = 100 - myage\n",
        "print(\"我再\", nyears, \"年就滿100歲了。\")\n",
        "\n",
        "print(\"到時候是西元\", int(year) + nyears + 1911, \"年\") # 將今年年份轉換為整數\n",
        "print(\"也就是民國\", int(year) + nyear, \"年\") # 民國幾年"
      ],
      "execution_count": null,
      "outputs": [
        {
          "output_type": "stream",
          "text": [
            "哈囉，大家好。我叫Zyxo64，是一個聊天機器人。\n",
            "我很喜歡美食東西，也喜歡養動物。今天很高興有機會來到世新大學，請大家多多指教。\n"
          ],
          "name": "stdout"
        }
      ]
    }
  ]
}