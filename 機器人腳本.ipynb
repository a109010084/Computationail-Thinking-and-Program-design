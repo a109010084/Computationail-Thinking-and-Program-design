{
  "nbformat": 4,
  "nbformat_minor": 0,
  "metadata": {
    "colab": {
      "name": "機器人腳本.ipynb",
      "provenance": [],
      "authorship_tag": "ABX9TyPcZaAu8c1R3UjWye/jeIyy",
      "include_colab_link": true
    },
    "kernelspec": {
      "name": "python3",
      "display_name": "Python 3"
    },
    "language_info": {
      "name": "python"
    }
  },
  "cells": [
    {
      "cell_type": "markdown",
      "metadata": {
        "id": "view-in-github",
        "colab_type": "text"
      },
      "source": [
        "<a href=\"https://colab.research.google.com/github/a109010084/Computationail-Thinking-and-Program-design/blob/main/%E6%A9%9F%E5%99%A8%E4%BA%BA%E8%85%B3%E6%9C%AC.ipynb\" target=\"_parent\"><img src=\"https://colab.research.google.com/assets/colab-badge.svg\" alt=\"Open In Colab\"/></a>"
      ]
    },
    {
      "cell_type": "markdown",
      "metadata": {
        "id": "kP-ASS3loY5W"
      },
      "source": [
        "**學業事業**"
      ]
    },
    {
      "cell_type": "markdown",
      "metadata": {
        "id": "tTDs7h_6n4C8"
      },
      "source": [
        "人生的道路上，你沒有耐心去等待成功，那麼你只有用一生去面對失敗。\n"
      ]
    },
    {
      "cell_type": "markdown",
      "metadata": {
        "id": "RLpEsVYmoBrs"
      },
      "source": [
        "我們什麼都沒有，唯一的本錢就是青春。夢想讓我與眾不同，奮鬥讓我改變命運！\n"
      ]
    },
    {
      "cell_type": "markdown",
      "metadata": {
        "id": "aPqM0CTboDcE"
      },
      "source": [
        "每個人的一生都有許多夢想，但如果其中一個不斷攪擾著你，剩下的就僅僅是行動了。\n"
      ]
    },
    {
      "cell_type": "markdown",
      "metadata": {
        "id": "u-JVapmDogPM"
      },
      "source": [
        "勇敢是：當你還未開始就已知道自己會輸，可你依然要去做，而且無論如何都要把它堅持到底。你很少能贏，但有時也會。"
      ]
    },
    {
      "cell_type": "markdown",
      "metadata": {
        "id": "UoxD8HsRokdN"
      },
      "source": [
        "為了自己想要的未來，無論現在有多難熬，都必須得滿懷信心的堅持下去。\n"
      ]
    },
    {
      "cell_type": "markdown",
      "metadata": {
        "id": "bkNf83jtoqbM"
      },
      "source": [
        "路，走不通時，學會拐彎，結，解不開時，學會忘記；事，難以做時，學會放下；緣，漸行遠時，選擇隨意。\n"
      ]
    },
    {
      "cell_type": "markdown",
      "metadata": {
        "id": "kMxyuttUpHv0"
      },
      "source": [
        "只要你能正視這些考驗，那麼你也就能成功的實現你的夢想。\n"
      ]
    },
    {
      "cell_type": "markdown",
      "metadata": {
        "id": "0IKaLjXMoXKW"
      },
      "source": [
        "今日的事情，盡心、盡意、盡力去做了，無論成績如何，都應該高高興興地上床恬睡。\n"
      ]
    },
    {
      "cell_type": "markdown",
      "metadata": {
        "id": "SfirsizdobDG"
      },
      "source": [
        "把微笑掛在臉上，時時擁有美好的心情，去面對生活，學習，才不會有困難。\n"
      ]
    },
    {
      "cell_type": "markdown",
      "metadata": {
        "id": "wIIOBfn7qXgk"
      },
      "source": [
        "抽出時間去學習，凡事從小做起，不怕單調和重複，長期的積累堅持，想不成功，也難。"
      ]
    },
    {
      "cell_type": "markdown",
      "metadata": {
        "id": "RJc7RlG65PEe"
      },
      "source": [
        "**愛情友情**"
      ]
    },
    {
      "cell_type": "markdown",
      "metadata": {
        "id": "SETept_b5UMs"
      },
      "source": [
        "最好的朋友就是，當全世界的人都覺得我是在小題大做時，她卻懂得，我為什麼哭得如此歇斯底里。 "
      ]
    },
    {
      "cell_type": "markdown",
      "metadata": {
        "id": "KbevmgR45Xfk"
      },
      "source": [
        "無論是友情還是愛情，跟誰在一起舒服就和誰在一起，累了就躲遠一點。你取悅別人的模樣，真的不好看。"
      ]
    },
    {
      "cell_type": "markdown",
      "metadata": {
        "id": "3wKqhn535bPs"
      },
      "source": [
        "三觀不合真的很難做朋友，因為思想，經歷，感官，全都不一樣。就像我說大海很漂亮，你卻說淹死過很多人。"
      ]
    },
    {
      "cell_type": "markdown",
      "metadata": {
        "id": "YP0r_8wr5ex8"
      },
      "source": [
        "永遠記住：丟什麼也別丟，真心對你的人；忘什麼也別忘，有恩於你的人；舍什麼也別舍，一路相隨的人！"
      ]
    },
    {
      "cell_type": "markdown",
      "metadata": {
        "id": "SQSudEaL5ghM"
      },
      "source": [
        "如果一個人的感情得到了解脫，那麼另一個人將走向可怕的地獄。"
      ]
    },
    {
      "cell_type": "markdown",
      "metadata": {
        "id": "3ed2FzF_5jJF"
      },
      "source": [
        "友誼是一種溫靜與沉著的愛，為理智所引導，習慣所結成，從長久的認識與共同的契合而產生，沒有嫉妒，也沒有恐懼。"
      ]
    },
    {
      "cell_type": "markdown",
      "metadata": {
        "id": "vJ3nM9Sq5k38"
      },
      "source": [
        "幸福的角度一定彼此「平視」，而不是卑微地「仰視」；幸福前進的速度一定是「一起」，而不是「苦苦追隨」。"
      ]
    },
    {
      "cell_type": "markdown",
      "metadata": {
        "id": "3LlmmS6s5mXs"
      },
      "source": [
        "這世界從來都沒有錯過的幸福，只有不想為妳留下的人。"
      ]
    },
    {
      "cell_type": "markdown",
      "metadata": {
        "id": "8gBAUztv5oUV"
      },
      "source": [
        "有些傻話，不但是要背著人說，還得背著自己。讓自己聽見了也怪難為情的。譬如說，我愛你，我一輩子都愛你。"
      ]
    },
    {
      "cell_type": "markdown",
      "metadata": {
        "id": "AKaaxRLG5qb7"
      },
      "source": [
        "一個承諾在最需要的時候沒有兌現，那就是出賣，以後再兌現，已經沒什麽意思了。"
      ]
    },
    {
      "cell_type": "markdown",
      "metadata": {
        "id": "mbTMT6rEpr7s"
      },
      "source": [
        "**閒聊**"
      ]
    },
    {
      "cell_type": "markdown",
      "metadata": {
        "id": "0HMZXw3lpuG0"
      },
      "source": [
        "覺得自己做得到和做不到，其實只在一念之間。\n",
        "\n"
      ]
    },
    {
      "cell_type": "markdown",
      "metadata": {
        "id": "P_q5vWDeqItF"
      },
      "source": [
        "用最少的悔恨面對過去，用最少的浪費面對現在，用最多的夢面對未來。"
      ]
    },
    {
      "cell_type": "markdown",
      "metadata": {
        "id": "vdcjj9pAqJGd"
      },
      "source": [
        "不管環境多麼縱容你，都要對自己有要求，保持自律的氣質。"
      ]
    },
    {
      "cell_type": "markdown",
      "metadata": {
        "id": "Xl0gD9WwqLyc"
      },
      "source": [
        "世界很大、風景很美、機會很多、人生很短，不要蜷縮在一小塊陰影裡。"
      ]
    },
    {
      "cell_type": "markdown",
      "metadata": {
        "id": "KHyJR71AqOz9"
      },
      "source": [
        "人生活得是否快樂，關鍵是具有什麼樣的心態。"
      ]
    },
    {
      "cell_type": "markdown",
      "metadata": {
        "id": "7CblE5aQ53MV"
      },
      "source": [
        "-轉換心情 排解壓力七步驟\n",
        "「1.打開歌單，挑選能抒發自己心情的音樂。（盡量輕快類型）」\n",
        "「2.回想一下這禮拜做的任何事，不論好與壞。」\n",
        "「3.檢討這禮拜的自己，做得好繼續保持，做不好從下禮拜開始努力讓自己慢慢改變。」\n",
        "「4.確認好方向後，走到室外曬曬太陽感受外面的溫度，若是晚上，可以賞星星月亮讓心情平緩。」\n",
        "「5.走到家人朋友身邊與他們擁抱，擁抱別人會刺激正向思考。」\n",
        "「6.做點能讓自己開心的事（ex:看一部電影 小說 漫畫）」\n",
        "「7.明天又是新的一天，新的開始，過去做的不好沒關係，繼續加油！」"
      ]
    }
  ]
}