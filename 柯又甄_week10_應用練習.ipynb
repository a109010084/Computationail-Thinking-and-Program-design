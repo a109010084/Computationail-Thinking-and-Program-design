{
  "nbformat": 4,
  "nbformat_minor": 0,
  "metadata": {
    "colab": {
      "name": "柯又甄-week10-隨堂練習",
      "provenance": [],
      "authorship_tag": "ABX9TyPx3x3fW6MO2z7BHc7DYdiw",
      "include_colab_link": true
    },
    "kernelspec": {
      "name": "python3",
      "display_name": "Python 3"
    },
    "language_info": {
      "name": "python"
    }
  },
  "cells": [
    {
      "cell_type": "markdown",
      "metadata": {
        "id": "view-in-github",
        "colab_type": "text"
      },
      "source": [
        "<a href=\"https://colab.research.google.com/github/a109010084/Computationail-Thinking-and-Program-design/blob/main/%E6%9F%AF%E5%8F%88%E7%94%84_week10_%E6%87%89%E7%94%A8%E7%B7%B4%E7%BF%92.ipynb\" target=\"_parent\"><img src=\"https://colab.research.google.com/assets/colab-badge.svg\" alt=\"Open In Colab\"/></a>"
      ]
    },
    {
      "cell_type": "code",
      "metadata": {
        "colab": {
          "base_uri": "https://localhost:8080/"
        },
        "id": "__hujNbZkCBA",
        "outputId": "1a2d4966-9ab2-4938-885a-7855214008e4"
      },
      "source": [
        "## 1.聊天機器人自我介紹\n",
        "print(\"哈囉,大家好。我叫Zyxo64,是一個聊天機器人。\")\n",
        "hobby = \"我很喜歡美食東西,也喜歡養動物。今天很高興有機會來到世新大學,請大家多多指教。\"\n",
        "print( hobby )"
      ],
      "execution_count": 12,
      "outputs": [
        {
          "output_type": "stream",
          "text": [
            "哈囉,大家好。我叫Zyxo64,是一個聊天機器人。\n",
            "我很喜歡美食東西,也喜歡養動物。今天很高興有機會來到世新大學,請大家多多指教。\n"
          ],
          "name": "stdout"
        }
      ]
    },
    {
      "cell_type": "code",
      "metadata": {
        "colab": {
          "base_uri": "https://localhost:8080/"
        },
        "id": "jpIEpCNDx8ZM",
        "outputId": "e1d112a4-6892-4e30-8838-e442e6665ee1"
      },
      "source": [
        "## 2. 打招呼,取得對方名字\n",
        "name = input(\"嗨!妳好,請問大名?: \")\n",
        "print(\"你好\", name, \"很高興認識你\")"
      ],
      "execution_count": 11,
      "outputs": [
        {
          "output_type": "stream",
          "text": [
            "嗨!妳好,請問大名?: 1\n",
            "你好 1 很高興認識你\n"
          ],
          "name": "stdout"
        }
      ]
    },
    {
      "cell_type": "code",
      "metadata": {
        "colab": {
          "base_uri": "https://localhost:8080/"
        },
        "id": "-11jITLnyCei",
        "outputId": "00adac5c-b1be-4f65-f611-8cdb062e5fe9"
      },
      "source": [
        "## 3. 數學運算\n",
        "## 3-1 從使用者取得今年年份\n",
        "year = input(\"請問一下今年是西元2021年,那是民國幾年呢? \")\n",
        "print(\"對!應該沒錯,謝謝妳!\")"
      ],
      "execution_count": 10,
      "outputs": [
        {
          "output_type": "stream",
          "text": [
            "請問一下今年是西元2021年,那是民國幾年呢? 1\n",
            "對!應該沒錯,謝謝妳!\n"
          ],
          "name": "stdout"
        }
      ]
    },
    {
      "cell_type": "code",
      "metadata": {
        "colab": {
          "base_uri": "https://localhost:8080/"
        },
        "id": "LCNf1AUFyG_q",
        "outputId": "93d28f87-10c3-4628-d2f7-3d12be01ad40"
      },
      "source": [
        "## 3-2 請使用者猜年齡\n",
        "myage = int(input(\"Francis,猜猜看我今年幾歲? \"))\n",
        "print(\"哇!你好聰明,我今年的確\", myage)"
      ],
      "execution_count": 9,
      "outputs": [
        {
          "output_type": "stream",
          "text": [
            "Francis,猜猜看我今年幾歲? 11\n",
            "哇!你好聰明,我今年的確 11\n"
          ],
          "name": "stdout"
        }
      ]
    },
    {
      "cell_type": "code",
      "metadata": {
        "colab": {
          "base_uri": "https://localhost:8080/"
        },
        "id": "SKQjGtYGyMzS",
        "outputId": "afd9a6cb-85ae-4bab-dbf9-bdfb579c9cd9"
      },
      "source": [
        "nyears = 100 - myage\n",
        "print(\"我再\", nyears, \"年就滿100歲了。\")\n",
        "print(\"到時候是西元\", int(year) + nyears + 1911, \"年\") # 將今年年份轉換為整數\n",
        "print(\"也就是民國\", int(year) + nyears, \"年\") # 民國幾年"
      ],
      "execution_count": 14,
      "outputs": [
        {
          "output_type": "stream",
          "text": [
            "我再 89 年就滿100歲了。\n",
            "到時候是西元 2001 年\n",
            "也就是民國 90 年\n"
          ],
          "name": "stdout"
        }
      ]
    },
    {
      "cell_type": "code",
      "metadata": {
        "colab": {
          "base_uri": "https://localhost:8080/"
        },
        "id": "BupiiRn108KD",
        "outputId": "3b176594-d850-4a47-825c-ac1b8b3209aa"
      },
      "source": [
        "## 4 興趣\n",
        "## 4-1 食物話題\n",
        "print(\"我喜歡巧克力,也喜歡嘗試各種新食物。\")\n",
        "food = input(\"你呢。你最喜歡的食物是什麼?: \")\n",
        "print(\"我也喜歡\", food)\n",
        "question = \"你多久吃一次\" + food + \"?: \"\n",
        "howoften = input(question)\n",
        "print(\"真有趣。不知道這樣對健康好不好!\")"
      ],
      "execution_count": 15,
      "outputs": [
        {
          "output_type": "stream",
          "text": [
            "我喜歡巧克力,也喜歡嘗試各種新食物。\n",
            "你呢。你最喜歡的食物是什麼?: 一\n",
            "我也喜歡 一\n",
            "你多久吃一次一?: 一\n",
            "真有趣。不知道這樣對健康好不好!\n"
          ],
          "name": "stdout"
        }
      ]
    },
    {
      "cell_type": "code",
      "metadata": {
        "colab": {
          "base_uri": "https://localhost:8080/"
        },
        "id": "_q7UC8TJ1IIr",
        "outputId": "22577ac6-a973-4f3c-812d-50c00cc5d9b0"
      },
      "source": [
        "## 4-2 動物話題\n",
        "animal = input(\"我最喜歡的動物是長頸鹿。你呢?; \")\n",
        "print(\"我不喜歡\", animal)\n",
        "print(\"不知道\", animal, \"喜不喜歡吃\", food, \"?\")"
      ],
      "execution_count": 16,
      "outputs": [
        {
          "output_type": "stream",
          "text": [
            "我最喜歡的動物是長頸鹿。你呢?; 雌\n",
            "我不喜歡 雌\n",
            "不知道 雌 喜不喜歡吃 一 ?\n"
          ],
          "name": "stdout"
        }
      ]
    },
    {
      "cell_type": "code",
      "metadata": {
        "colab": {
          "base_uri": "https://localhost:8080/"
        },
        "id": "m34BLCew1Ow6",
        "outputId": "91255550-a450-4888-a048-93983c5b110c"
      },
      "source": [
        "## 3-3 計算聊天機器人滿100歲的年份\n",
        "nyears = 100 - myage\n",
        "print(\"我再\", nyears, \"年就滿100歲了。\")\n",
        "print(\"到時候是西元\", int(year) + nyears + 1911, \"年\") # 將今年年份轉換為整數\n",
        "print(\"也就是民國\", int(year) + nyears, \"年\") # 民國幾年"
      ],
      "execution_count": 18,
      "outputs": [
        {
          "output_type": "stream",
          "text": [
            "我再 89 年就滿100歲了。\n",
            "到時候是西元 2001 年\n",
            "也就是民國 90 年\n"
          ],
          "name": "stdout"
        }
      ]
    },
    {
      "cell_type": "code",
      "metadata": {
        "id": "gy_XxY6U1TAa"
      },
      "source": [
        "## 6. 道別\n",
        "print(\"祝你週末愉快!\")\n",
        "print(\"再見\", name, \"我喜歡跟你聊天!\")"
      ],
      "execution_count": null,
      "outputs": []
    }
  ]
}