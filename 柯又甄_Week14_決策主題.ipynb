{
  "nbformat": 4,
  "nbformat_minor": 0,
  "metadata": {
    "colab": {
      "name": "柯又甄_Week14_決策主題.ipynb",
      "provenance": [],
      "authorship_tag": "ABX9TyN500FThgrHDrjibD2LFdYb",
      "include_colab_link": true
    },
    "kernelspec": {
      "name": "python3",
      "display_name": "Python 3"
    },
    "language_info": {
      "name": "python"
    }
  },
  "cells": [
    {
      "cell_type": "markdown",
      "metadata": {
        "id": "view-in-github",
        "colab_type": "text"
      },
      "source": [
        "<a href=\"https://colab.research.google.com/github/a109010084/Computationail-Thinking-and-Program-design/blob/main/%E6%9F%AF%E5%8F%88%E7%94%84_Week14_%E6%B1%BA%E7%AD%96%E4%B8%BB%E9%A1%8C.ipynb\" target=\"_parent\"><img src=\"https://colab.research.google.com/assets/colab-badge.svg\" alt=\"Open In Colab\"/></a>"
      ]
    },
    {
      "cell_type": "markdown",
      "metadata": {
        "id": "rhsLDF84yyWN"
      },
      "source": [
        "**溫度計**"
      ]
    },
    {
      "cell_type": "code",
      "metadata": {
        "id": "TvBgbY5WyvmE"
      },
      "source": [
        "tem = float(input(\"your temperature?\"))\n",
        "\n",
        "if tem < 36:\n",
        "  print(\"Too low\")\n",
        "\n",
        "elif tem < 38:\n",
        "  print(\"Normal\")\n",
        "\n",
        "elif tem < 39:\n",
        "  print(\"Hight\")\n",
        "  \n",
        "else:\n",
        "  print(\"HOOOTTTT\")"
      ],
      "execution_count": null,
      "outputs": []
    },
    {
      "cell_type": "markdown",
      "metadata": {
        "id": "cIRNSK1HyxQY"
      },
      "source": [
        "**閏年**"
      ]
    },
    {
      "cell_type": "code",
      "metadata": {
        "colab": {
          "base_uri": "https://localhost:8080/"
        },
        "id": "YVucqddly6tc",
        "outputId": "b921366b-a63a-44be-e9a9-df5b924cdcc7"
      },
      "source": [
        "year = int(input(\"請輸入年份\"))\n",
        "\n",
        "if ((year % 400) == 0):\n",
        "  print(year , \"是閏年\")\n",
        "\n",
        "elif ((year % 100) == 0):\n",
        "  print(year , \"不是閏年\")\n",
        "\n",
        "elif ((year % 4) == 0):\n",
        "  print(year , \"是閏年\")\n",
        "\n",
        "else:\n",
        "  print(year , \"不是閏年\")"
      ],
      "execution_count": 27,
      "outputs": [
        {
          "output_type": "stream",
          "text": [
            "請輸入年份23\n",
            "23 不是閏年\n"
          ],
          "name": "stdout"
        }
      ]
    },
    {
      "cell_type": "markdown",
      "metadata": {
        "id": "F0vtXMOz1NnJ"
      },
      "source": [
        "**習題** **停車場費用**"
      ]
    },
    {
      "cell_type": "code",
      "metadata": {
        "id": "fbkh_2NG1QuT"
      },
      "source": [
        "length = int(input(\"請輸入距離\"))\n",
        "time = int(input(\"請輸入時間\"))\n",
        "\n",
        "if length > 10:\n",
        "   feight = 6 + (10 - 3) * 1.8 + (length - 10) * 1.8 * 1.5\n",
        "\n",
        "else:\n",
        "  if length >= 3:\n",
        "         feight = 6 + (length - 3) * 1.8\n",
        "  else:\n",
        "         feight = 6\n",
        "\n",
        "feight = feight + (time / 3) * 1\n",
        "print (\"計程車費用是\" , feight)"
      ],
      "execution_count": null,
      "outputs": []
    },
    {
      "cell_type": "markdown",
      "metadata": {
        "id": "R4Zm0Gzv5CJa"
      },
      "source": [
        "**電影評價**"
      ]
    },
    {
      "cell_type": "code",
      "metadata": {
        "colab": {
          "base_uri": "https://localhost:8080/"
        },
        "id": "vXUP2MN-4j93",
        "outputId": "e62098c1-3066-4c62-c9f8-d30734a8002e"
      },
      "source": [
        "movie_title = input('請輸入電影的名稱:')\n",
        "movie_rating = float(input('請輸入電影的評等:'))\n",
        "\n",
        "if movie_rating > 7:\n",
        "    print(f\"去電影院看{movie_title}\")\n",
        "elif movie_rating > 6:\n",
        "    print(f\"在家裡看{movie_title}\")\n",
        "else:\n",
        "    print(f\"不要看{movie_title}\")"
      ],
      "execution_count": 26,
      "outputs": [
        {
          "output_type": "stream",
          "text": [
            "請輸入電影的名稱:一\n",
            "請輸入電影的評等:6\n",
            "不要看一\n"
          ],
          "name": "stdout"
        }
      ]
    },
    {
      "cell_type": "markdown",
      "metadata": {
        "id": "z84V9S7L5_2u"
      },
      "source": [
        "**判斷性別**"
      ]
    },
    {
      "cell_type": "code",
      "metadata": {
        "id": "E0OtefmH6BU5"
      },
      "source": [
        "user_int = int(input(\"請輸入身份證的最後一個正整數:\"))\n",
        "\n",
        "id_number = input(\"請輸入身分證字號:\")\n",
        "id_second_digit = id_number\n",
        "if id_second_digit == '1':\n",
        "    gender = \"Male\"\n",
        "else:\n",
        "    gender = \"Female\"\n",
        "print(gender)"
      ],
      "execution_count": null,
      "outputs": []
    },
    {
      "cell_type": "markdown",
      "metadata": {
        "id": "WXjKJrBj9efF"
      },
      "source": [
        "**棒打老虎雞吃蟲**"
      ]
    },
    {
      "cell_type": "code",
      "metadata": {
        "colab": {
          "base_uri": "https://localhost:8080/"
        },
        "id": "jyI_nshk9ftq",
        "outputId": "6284bfd0-0851-482f-b41d-1ac7bca40fbe"
      },
      "source": [
        "my_choice = int(input(\"請出拳 [0] 蟲 [1] 雞 [2] 老虎 [3] 棒子\")) \n",
        "print(\"你出的拳:\", my_choice)\n",
        "import random\n",
        "com_choice = random.randint(0, 3)\n",
        "print(\"電腦出拳為\", com_choice)\n",
        "\n",
        "if my_choice == (com_choice + 1) % 4:\n",
        "   print(\"我贏了\")\n",
        "elif com_choice == (my_choice + 1) % 4:\n",
        "   print(\"電腦贏了\")\n",
        "else:\n",
        "   print(\"平手\")"
      ],
      "execution_count": 33,
      "outputs": [
        {
          "output_type": "stream",
          "text": [
            "請出拳 [0] 蟲 [1] 雞 [2] 老虎 [3] 棒子0\n",
            "你出的拳: 0\n",
            "電腦出拳為 2\n",
            "平手\n"
          ],
          "name": "stdout"
        }
      ]
    },
    {
      "cell_type": "markdown",
      "metadata": {
        "id": "Sf2Qc0do-oeW"
      },
      "source": [
        "**剪刀石頭布**"
      ]
    },
    {
      "cell_type": "code",
      "metadata": {
        "colab": {
          "base_uri": "https://localhost:8080/"
        },
        "id": "i0BXAXvv-q7c",
        "outputId": "63ea5598-4a17-4c72-fe58-ccb3fd809c97"
      },
      "source": [
        "my = int(input(\"請出拳 [0] 剪刀 [1] 石頭 [2] 布\")) \n",
        "print(\"我出拳為\", my)\n",
        "\n",
        "import random\n",
        "computer = random.randint(0, 2)\n",
        "\n",
        "if my == (computer + 1) % 3: \n",
        "  print(\"我贏了\")\n",
        "elif my == computer: \n",
        "  print(\"平手\")\n",
        "else: \n",
        "  print(\"我輸了\")"
      ],
      "execution_count": 35,
      "outputs": [
        {
          "output_type": "stream",
          "text": [
            "請出拳 [0] 剪刀 [1] 石頭 [2] 布1\n",
            "我出拳為 1\n",
            "我輸了\n"
          ],
          "name": "stdout"
        }
      ]
    }
  ]
}