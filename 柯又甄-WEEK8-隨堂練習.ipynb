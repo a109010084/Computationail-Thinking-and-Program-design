{
  "nbformat": 4,
  "nbformat_minor": 0,
  "metadata": {
    "colab": {
      "name": "Untitled0.ipynb",
      "provenance": [],
      "authorship_tag": "ABX9TyN9ZvuNMziXlZSXJcRTAqsm",
      "include_colab_link": true
    },
    "kernelspec": {
      "name": "python3",
      "display_name": "Python 3"
    },
    "language_info": {
      "name": "python"
    }
  },
  "cells": [
    {
      "cell_type": "markdown",
      "metadata": {
        "id": "view-in-github",
        "colab_type": "text"
      },
      "source": [
        "<a href=\"https://colab.research.google.com/github/a109010084/Computationail-Thinking-and-Program-design/blob/main/%E6%9F%AF%E5%8F%88%E7%94%84-WEEK8-%E9%9A%A8%E5%A0%82%E7%B7%B4%E7%BF%92.ipynb\" target=\"_parent\"><img src=\"https://colab.research.google.com/assets/colab-badge.svg\" alt=\"Open In Colab\"/></a>"
      ]
    },
    {
      "cell_type": "code",
      "metadata": {
        "colab": {
          "base_uri": "https://localhost:8080/"
        },
        "id": "l7fVSNDqcr1Q",
        "outputId": "f697377c-9510-4c63-a0d1-22d9928166da"
      },
      "source": [
        "## Input\n",
        "a = 13\n",
        "b = 11\n",
        "## Process\n",
        "t = a\n",
        "a = b\n",
        "b = t\n",
        "## Output\n",
        "print(\"a=\",a,\"b=\",b)"
      ],
      "execution_count": 2,
      "outputs": [
        {
          "output_type": "stream",
          "text": [
            "a= 11 b= 13\n"
          ],
          "name": "stdout"
        }
      ]
    },
    {
      "cell_type": "code",
      "metadata": {
        "colab": {
          "base_uri": "https://localhost:8080/",
          "height": 131
        },
        "id": "vXQLL6BSdKk9",
        "outputId": "96ccfa89-512b-4fdb-cb01-5acfe2e618c8"
      },
      "source": [
        "## Input\n",
        "a,b,c,d,e,f = eval(input(\"Enter a number\"))\n",
        "\n",
        "## Process + Output\n",
        "a = a//3 : b = b + a : f = f + a\n",
        "print(f\"a = {a} b = {b} c = {c} d = {d} e = {e} f = {f}\")\n",
        "\n",
        "b = b//3 : a = a + b : c = c + b\n",
        "print(f\"a = {a} b = {b} c = {c} d = {d} e = {e} f = {f}\")\n",
        "\n",
        "c = c//3 : b = b + c : d = d + c\n",
        "print(f\"a = {a} b = {b} c = {c} d = {d} e = {e} f = {f}\")"
      ],
      "execution_count": 35,
      "outputs": [
        {
          "output_type": "error",
          "ename": "SyntaxError",
          "evalue": "ignored",
          "traceback": [
            "\u001b[0;36m  File \u001b[0;32m\"<ipython-input-35-b5676a7f3247>\"\u001b[0;36m, line \u001b[0;32m5\u001b[0m\n\u001b[0;31m    a = a//3 : b = b + a : f = f + a\u001b[0m\n\u001b[0m             ^\u001b[0m\n\u001b[0;31mSyntaxError\u001b[0m\u001b[0;31m:\u001b[0m invalid syntax\n"
          ]
        }
      ]
    },
    {
      "cell_type": "code",
      "metadata": {
        "colab": {
          "base_uri": "https://localhost:8080/"
        },
        "id": "LiijRu_DkXbD",
        "outputId": "0c00c483-2ea8-4569-d18e-6fa9115ca175"
      },
      "source": [
        "## Total = P1*Q1 + P2*Q2 + P3*Q3\n",
        "   ...: ## Input Data\n",
        "   ...: cloth = int(input('請輸入上衣數量？')) \n",
        "   ...: trousers = int(input('請輸入褲子數量？'))\n",
        "   ...: vest = int(input('請輸入背心數量？'))\n",
        "   ...: ## Process\n",
        "   ...: total = cloth*300 + trousers*350 + vest*400\n",
        "   ...: ## Output\n",
        "   ...: print('訂購服裝的總金額為', total)"
      ],
      "execution_count": 29,
      "outputs": [
        {
          "output_type": "stream",
          "text": [
            "請輸入上衣數量？10\n",
            "請輸入褲子數量？8\n",
            "請輸入背心數量？5\n",
            "訂購服裝的總金額為 7800\n"
          ],
          "name": "stdout"
        }
      ]
    },
    {
      "cell_type": "code",
      "metadata": {
        "colab": {
          "base_uri": "https://localhost:8080/"
        },
        "id": "yBI2Jwdwlups",
        "outputId": "a1874843-3551-4b03-b564-ab29b8869c3e"
      },
      "source": [
        "## 計算三次成績的總和與平均\n",
        "   ...: ## Input Data\n",
        "   ...: first = int(input('請輸入第一次期中考成績？'))\n",
        "   ...: second = int(input('請輸入第二次期中考成績？'))\n",
        "   ...: final = int(input('請輸入期末考成績？'))\n",
        "   ...: ## Process\n",
        "   ...: sum = first + second + final\n",
        "   ...: average = sum/3\n",
        "   ...: ## Output\n",
        "   ...: print('總分為', sum, '平均為', average)"
      ],
      "execution_count": 30,
      "outputs": [
        {
          "output_type": "stream",
          "text": [
            "請輸入第一次期中考成績？66\n",
            "請輸入第二次期中考成績？88\n",
            "請輸入期末考成績？90\n",
            "總分為 244 平均為 81.33333333333333\n"
          ],
          "name": "stdout"
        }
      ]
    },
    {
      "cell_type": "code",
      "metadata": {
        "colab": {
          "base_uri": "https://localhost:8080/"
        },
        "id": "e4NusY48mq7K",
        "outputId": "1ee0179e-e428-4731-8a65-5024d01fb9ae"
      },
      "source": [
        "## 計算三次成績的總和與平均\n",
        "## Input\n",
        "x,y,z = eval(input('請輸入三次期中考成績？'))\n",
        "\n",
        "## Process\n",
        "sum = x + y + z\n",
        "average = sum /3\n",
        "\n",
        "## Output\n",
        "print('總分為', {sum}, '平均為', average)"
      ],
      "execution_count": 33,
      "outputs": [
        {
          "output_type": "stream",
          "text": [
            "請輸入三次期中考成績？66,88,90\n",
            "總分為 {244} 平均為 81.33333333333333\n"
          ],
          "name": "stdout"
        }
      ]
    },
    {
      "cell_type": "markdown",
      "metadata": {
        "id": "TJdzhfENqbwa"
      },
      "source": [
        "4-2-1. 抽象化 - 電影魔球"
      ]
    },
    {
      "cell_type": "code",
      "metadata": {
        "colab": {
          "base_uri": "https://localhost:8080/"
        },
        "id": "In_MvsDpqYo8",
        "outputId": "27b723da-c6bd-4135-c917-073fe5a3b3fe"
      },
      "source": [
        "## 1. 從IMBD電影資料庫找出要記錄的魔球電影相關資訊\n",
        "## 網址：https://www.imdb.com/title/tt1210166/\n",
        "## 相關資訊：電影名稱、放映日期......\n",
        "\n",
        "## 2. 在Python用變數儲存資訊\n",
        "movie_title = \"money ball\" # 電影名稱\n",
        "release_year = \"2011\"  # 放映日期\n",
        "movie_time_min = 120 # 片長\n",
        "movie_rating = 7.6 #評分\n",
        "director = \"Bennett Miller\" # 導演\n",
        "stars_1 = \"Brad Pitt\" #主要演員\n",
        "stars_2 = \"Roah Hill\" \n",
        "\n",
        "like = 1 # bin Wright\n",
        "stars_3 = \"Jon你喜不喜歡\"\n",
        " \n",
        "## 3. 印出魔球電影的相關資訊\n",
        "print(movie_title)  # 螢幕列印\n",
        "print(release_year)\n",
        "print(movie_time_min)"
      ],
      "execution_count": 39,
      "outputs": [
        {
          "output_type": "stream",
          "text": [
            "money ball\n",
            "2011\n",
            "120\n"
          ],
          "name": "stdout"
        }
      ]
    },
    {
      "cell_type": "markdown",
      "metadata": {
        "id": "kEghIQkPw21q"
      },
      "source": [
        "請計算NBA 史上最偉大的中鋒之一，「柴油引擎」俠客歐尼爾（Shaquille O’Neal）巔峰時期的BMI。\n",
        "當時他的身高(216cm)與體重(147kg)，而其所對應的身體質量指數公式為BMI ＝ 公斤 / 公尺平方。"
      ]
    },
    {
      "cell_type": "code",
      "metadata": {
        "colab": {
          "base_uri": "https://localhost:8080/"
        },
        "id": "FJBu23eswSjz",
        "outputId": "3e1e4a8d-6356-4d86-8704-438e4212f9d6"
      },
      "source": [
        "player_name = input(\"請輸入球員姓名：\")\n",
        "   ...: player_height = input(\"請輸入球員身高（cm）：\")\n",
        "   ...: player_weight = input(\"請輸入球員體重（kg）：\")\n",
        "   ...: \n",
        "   ...: player_height = float(player_height)\n",
        "   ...: player_weight = float(player_weight)\n",
        "   ...: player_bmi = player_weight/(player_height*0.01)**2\n",
        "   ...: \n",
        "   ...: print(\"{}的身體質量指數為：{:.2f}\".format(player_name, player_bmi))\n",
        "   ...: print(player_name,'的身體質量指數為', player_bmi )"
      ],
      "execution_count": 40,
      "outputs": [
        {
          "output_type": "stream",
          "text": [
            "請輸入球員姓名：Shaquille O’Neal\n",
            "請輸入球員身高（cm）：216\n",
            "請輸入球員體重（kg）：147\n",
            "Shaquille O’Neal的身體質量指數為：31.51\n",
            "Shaquille O’Neal 的身體質量指數為 31.507201646090532\n"
          ],
          "name": "stdout"
        }
      ]
    }
  ]
}