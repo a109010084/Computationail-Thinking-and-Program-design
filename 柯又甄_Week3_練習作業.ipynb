{
  "nbformat": 4,
  "nbformat_minor": 0,
  "metadata": {
    "colab": {
      "name": "柯又甄-Week3-練習作業",
      "provenance": [],
      "authorship_tag": "ABX9TyNbN2O1ko7uepAiiPBV/4O1",
      "include_colab_link": true
    },
    "kernelspec": {
      "name": "python3",
      "display_name": "Python 3"
    }
  },
  "cells": [
    {
      "cell_type": "markdown",
      "metadata": {
        "id": "view-in-github",
        "colab_type": "text"
      },
      "source": [
        "<a href=\"https://colab.research.google.com/github/a109010084/Computationail-Thinking-and-Program-design/blob/main/%E6%9F%AF%E5%8F%88%E7%94%84_Week3_%E7%B7%B4%E7%BF%92%E4%BD%9C%E6%A5%AD.ipynb\" target=\"_parent\"><img src=\"https://colab.research.google.com/assets/colab-badge.svg\" alt=\"Open In Colab\"/></a>"
      ]
    },
    {
      "cell_type": "code",
      "metadata": {
        "id": "Uv-OMoy3NvFe"
      },
      "source": [
        "\r\n"
      ],
      "execution_count": 1,
      "outputs": []
    },
    {
      "cell_type": "markdown",
      "metadata": {
        "id": "G4bkcMFUN86Z"
      },
      "source": [
        "# 隨堂練習"
      ]
    },
    {
      "cell_type": "markdown",
      "metadata": {
        "id": "koIpu2KDN7Oq"
      },
      "source": [
        "認識電腦"
      ]
    },
    {
      "cell_type": "markdown",
      "metadata": {
        "id": "FJJfUVFMOJsx"
      },
      "source": [
        "# 課後練習"
      ]
    },
    {
      "cell_type": "markdown",
      "metadata": {
        "id": "-7jQ9LyUOOTZ"
      },
      "source": [
        "**從一則新聞報導，提出你對新聞系（OO系）學生為什麼要學「運算思維與程式設計」的見解。（告訴我新聞連結，以及你的觀點即可。）**\r\n",
        "\r\n",
        "這是一個思考的過程，傳統填鴨式教育使台灣學子缺乏思考，而程式設計是訓練計算性思維，可培養解決問題的能力。結合傳媒相關知識，新聞系學生能因此快速了解問題並解決，多元學習，增加社會競爭力。\r\n",
        "新聞網址：https://www.rti.org.tw/news/view/id/2046263"
      ]
    }
  ]
}