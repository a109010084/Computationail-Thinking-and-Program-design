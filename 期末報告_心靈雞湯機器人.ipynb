{
  "nbformat": 4,
  "nbformat_minor": 0,
  "metadata": {
    "colab": {
      "name": "期末報告 心靈雞湯機器人.ipynb",
      "provenance": [],
      "authorship_tag": "ABX9TyNSGDCiB3Fa2rvTT+hg/oFX",
      "include_colab_link": true
    },
    "kernelspec": {
      "name": "python3",
      "display_name": "Python 3"
    },
    "language_info": {
      "name": "python"
    }
  },
  "cells": [
    {
      "cell_type": "markdown",
      "metadata": {
        "id": "view-in-github",
        "colab_type": "text"
      },
      "source": [
        "<a href=\"https://colab.research.google.com/github/a109010084/Computationail-Thinking-and-Program-design/blob/main/%E6%9C%9F%E6%9C%AB%E5%A0%B1%E5%91%8A_%E5%BF%83%E9%9D%88%E9%9B%9E%E6%B9%AF%E6%A9%9F%E5%99%A8%E4%BA%BA.ipynb\" target=\"_parent\"><img src=\"https://colab.research.google.com/assets/colab-badge.svg\" alt=\"Open In Colab\"/></a>"
      ]
    },
    {
      "cell_type": "code",
      "metadata": {
        "id": "ZYTtOELFuE8U"
      },
      "source": [
        "print(\"歡迎來到心靈雞湯機器人!\")\n",
        "print(\"**************************************\")\n",
        "print(\"請選擇語言\")\n",
        "language = input(\"中文/英文:\")\n",
        "if language ==\"中文\":\n",
        "    print(\"請選擇問題\")\n",
        "    question = input(\"學業事業/愛情友情/閒聊:\")\n",
        "    if question == \"學業事業\":\n",
        "        print(\"1.人生的道路上，你沒有耐心去等待成功，那麼你只有用一生去面對失敗。\")\n",
        "        print(\"2.我們什麼都沒有，唯一的本錢就是青春。夢想讓我與眾不同，奮鬥讓我改變命運！\")\n",
        "        print(\"3.每個人的一生都有許多夢想，但如果其中一個不斷攪擾著你，剩下的就僅僅是行動了。\")\n",
        "        print(\"4.勇敢是：當你還未開始就已知道自己會輸，可你依然要去做，而且無論如何都要把它堅持到底。你很少能贏，但有時也會。\")\n",
        "        print(\"5.為了自己想要的未來，無論現在有多難熬，都必須得滿懷信心的堅持下去。\")\n",
        "        print(\"6.路，走不通時，學會拐彎，結，解不開時，學會忘記；事，難以做時，學會放下；緣，漸行遠時，選擇隨意。\")\n",
        "        print(\"7.只要你能正視這些考驗，那麼你也就能成功的實現你的夢想。\")\n",
        "        print(\"8.今日的事情，盡心、盡意、盡力去做了，無論成績如何，都應該高高興興地上床恬睡。\")\n",
        "        print(\"9.把微笑掛在臉上，時時擁有美好的心情，去面對生活，學習，才不會有困難。\")\n",
        "        print(\"10.抽出時間去學習，凡事從小做起，不怕單調和重複，長期的積累堅持，想不成功，也難。\")\n",
        "    elif question == \"愛情友情\":\n",
        "        print(\"1.最好的朋友就是，當全世界的人都覺得我是在小題大做時，她卻懂得，我為什麼哭得如此歇斯底里。\")\n",
        "        print(\"2.無論是友情還是愛情，跟誰在一起舒服就和誰在一起，累了就躲遠一點。你取悅別人的模樣，真的不好看。\")\n",
        "        print(\"3.三觀不合真的很難做朋友，因為思想，經歷，感官，全都不一樣。就像我說大海很漂亮，你卻說淹死過很多人。\")\n",
        "        print(\"4.永遠記住：丟什麼也別丟，真心對你的人；忘什麼也別忘，有恩於你的人；舍什麼也別舍，一路相隨的人！\")\n",
        "        print(\"5.如果一個人的感情得到了解脫，那麼另一個人將走向可怕的地獄。\")\n",
        "        print(\"6.友誼是一種溫靜與沉著的愛，為理智所引導，習慣所結成，從長久的認識與共同的契合而產生，沒有嫉妒，也沒有恐懼。\")\n",
        "        print(\"7.幸福的角度一定彼此「平視」，而不是卑微地「仰視」；幸福前進的速度一定是「一起」，而不是「苦苦追隨」。\")\n",
        "        print(\"8.這世界從來都沒有錯過的幸福，只有不想為妳留下的人。\")\n",
        "        print(\"9.有些傻話，不但是要背著人說，還得背著自己。讓自己聽見了也怪難為情的。譬如說，我愛你，我一輩子都愛你。\")\n",
        "        print(\"10.一個承諾在最需要的時候沒有兌現，那就是出賣，以後再兌現，已經沒什麽意思了。\")\n",
        "    elif question==\"閒聊\":\n",
        "        print(\"1.覺得自己做得到和做不到，其實只在一念之間。\")\n",
        "        print(\"2.用最少的悔恨面對過去，用最少的浪費面對現在，用最多的夢面對未來。\")\n",
        "        print(\"3.不管環境多麼縱容你，都要對自己有要求，保持自律的氣質。\")\n",
        "        print(\"4.世界很大、風景很美、機會很多、人生很短。不要蜷縮在一小塊陰影裡。\")\n",
        "        print(\"5.人生活得是否快樂，關鍵是具有什麼樣的心態。\")\n",
        "    else:\n",
        "        print(\"輸入無效，請重新來過\")\n",
        "    print(\"那你想不想轉換心情？\")\n",
        "    action = input(\"是/否:\")\n",
        "    if action == \"是\":\n",
        "        print(\"-轉換心情 排解壓力七步驟\")\n",
        "        print(\"「1.打開歌單，挑選能抒發自己心情的音樂。（盡量輕快類型）」\")\n",
        "        print(\"「2.回想一下這禮拜做的任何事，不論好與壞。」\")\n",
        "        print(\"「3.檢討這禮拜的自己，做得好繼續保持，做不好從下禮拜開始努力讓自己慢慢改變。」\")\n",
        "        print(\"「4.確認好方向後，走到室外曬曬太陽感受外面的溫度，若是晚上，可以賞星星月亮讓心情平緩。」\")    \n",
        "        print(\"「5.走到家人朋友身邊與他們擁抱，擁抱別人會刺激正向思考。」\")\n",
        "        print(\"「6.做點能讓自己開心的事（ex:看一部電影 小說 漫畫）」\")         \n",
        "        print(\"「7.明天又是新的一天，新的開始，過去做的不好沒關係，繼續加油！」\")\n",
        "    elif action == \"否\":\n",
        "        print(\"好的，祝福您日後事事順心\")\n",
        "    else:\n",
        "        print(\"輸入無效，請重新來過\")\n",
        "    print(\"給個評價吧:\")\n",
        "    satisfy = input(\"滿意/普通/不滿意:\")\n",
        "    if satisfy == \"滿意\" or \"普通\" or \"不滿意\":\n",
        "        print(\"感謝您 我們會聽取您的意見並改進\")\n",
        "    else:\n",
        "        print(\"輸入無效，請重新來過\")\n",
        "elif language == \"英文\" :\n",
        "    print(\"please choose a question\")\n",
        "    question = input(\"studies/love/chat\")\n",
        "    if question == \"studies\":\n",
        "        print(\"When all else is lost the future still remains.\")\n",
        "        print(\"Sow nothing, reap nothing.\")\n",
        "        print(\"Keep on going never give up.\")\n",
        "        print(\"The wealth of the mind is the only wealth.\")\n",
        "        print(\"Never say die.\")\n",
        "    elif question == \"love\":\n",
        "        print(\"Passionate love is a quenchless thirst\")\n",
        "        print(\"At the touch of love everyone becomes a poet\")\n",
        "        print(\"Love is a vine that grows into our hearts\")\n",
        "        print(\"It is impossible to love and to be wise\")\n",
        "        print(\"Faults are sick when love is thin\")\n",
        "    elif question==\"chat\":\n",
        "        print(\"The greatest test of courage on earth is to bear defeat without losing heart.\")\n",
        "        print(\"All things in their being are good for something.\")\n",
        "        print(\"The world is like a mirror: Frown at itand it frowns at you; smile, and it smiles too.\")\n",
        "        print(\"Genius is an infinite capacity for taking pains.\")\n",
        "        print(\"The good seaman is known in bad weather.\")\n",
        "    else:\n",
        "        print(\"Invalid input, please try again\")\n",
        "    print(\"Do you want to change your mood?\")\n",
        "    action = input(\"yes/no:\")\n",
        "    if action == \"yes\":\n",
        "        print(\"Change mood and relieve stress in seven steps：\")\n",
        "        print(\"1.Open the playlist and choose the music that expresses your mood. (Try to be as brisk as possible)\")\n",
        "        print(\"2.Think back to anything you did this week, good or bad. \")\n",
        "        print(\"3.Review yourself this week, do it well and continue to maintain it, if you don't do it well, try to make yourself slowly change from next week.\")\n",
        "        print(\"4.After confirming the direction, go outside to bask in the sun and feel the temperature outside. If it is night, you can enjoy the stars and moon to calm your mood.\")    \n",
        "        print(\"5.Walk to your family and friends and hug them. Embracing others will stimulate positive thinking.\")\n",
        "        print(\"6.Do something that makes you happy (ex: watching a movie, novel, comic)\")         \n",
        "        print(\"7.Tomorrow is a new day, a new beginning, it doesn't matter if you didn't do well in the past, keep on working hard! \")\n",
        "    elif action == \"no\":\n",
        "        print(\"Okay Have a nice day\")\n",
        "    else:\n",
        "        print(\"Invalid input, please try again\")\n",
        "    print(\"Give a comment\")\n",
        "    satisfy = input(\"Satisfied/Normal/Unsatisfied:\")\n",
        "    if satisfy == \"Satisfied\" or \"Normal\" or \"Unsatisfied:\":\n",
        "        print(\"Thank you, we will listen to your comments and improve\")\n",
        "    else:\n",
        "        print(\"Invalid input, please try again\")"
      ],
      "execution_count": null,
      "outputs": []
    },
    {
      "cell_type": "markdown",
      "metadata": {
        "id": "TxD-2_vNu71d"
      },
      "source": [
        "期末報告 心靈雞湯機器人\n",
        "A109010084柯又甄\n",
        "A109010138賴沛菁\n",
        "A109010156林珮瑜\n"
      ]
    }
  ]
}