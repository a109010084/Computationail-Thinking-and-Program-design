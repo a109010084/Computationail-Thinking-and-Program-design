{
  "nbformat": 4,
  "nbformat_minor": 0,
  "metadata": {
    "colab": {
      "name": "柯又甄_Week6_練習作業_ipynb",
      "provenance": [],
      "authorship_tag": "ABX9TyN0pSQcS6gfwMwEIN8i6Jx2",
      "include_colab_link": true
    },
    "kernelspec": {
      "name": "python3",
      "display_name": "Python 3"
    }
  },
  "cells": [
    {
      "cell_type": "markdown",
      "metadata": {
        "id": "view-in-github",
        "colab_type": "text"
      },
      "source": [
        "<a href=\"https://colab.research.google.com/github/a109010084/Computationail-Thinking-and-Program-design/blob/main/%E6%9F%AF%E5%8F%88%E7%94%84_Week7_%E7%B7%B4%E7%BF%92%E4%BD%9C%E6%A5%AD_ipynb.ipynb\" target=\"_parent\"><img src=\"https://colab.research.google.com/assets/colab-badge.svg\" alt=\"Open In Colab\"/></a>"
      ]
    },
    {
      "cell_type": "markdown",
      "metadata": {
        "id": "Z9pFPVLeeqBt"
      },
      "source": [
        "III. 課後練習\n",
        "練習3: 變數賦值，小猴子摘水果\n",
        "\n",
        "有一天，一隻小猴子來到果園裡，牠走道蘋果樹下，看到滿樹的蘋果，就爬上去摘了2個。又看到不滿的地方有一個梨子樹，又大又黃，就丟掉蘋果，爬到梨子樹摘了1個梨子。正準備吃的時候，看到前方又紅又大的桃子樹，就又高高興興地跑到桃樹上，摘了3個桃子。這時傳來小鳥的叫聲，鳥在香蕉樹上，當然就立馬飛奔去摘香蕉，最後吃了6根香蕉。請問這隻猴子摘了多少個水果，手中最後的水果是什麼？請你用Python記錄一下！"
      ]
    },
    {
      "cell_type": "code",
      "metadata": {
        "colab": {
          "base_uri": "https://localhost:8080/"
        },
        "id": "UK1Y89Dwe8Xe",
        "outputId": "df953c48-22e6-40f7-be78-c02f95815425"
      },
      "source": [
        "total = 0\n",
        "\n",
        "fruit = \"Apple\"\n",
        "number = 2\n",
        "total = total + number\n",
        "print(\"摘了\",fruit,\"摘了\",number,\"個，總共摘了\", total, \"個水果\")\n",
        "print(f\"摘了{fruit}、摘了{number},總共摘了{total}個水果\")"
      ],
      "execution_count": 13,
      "outputs": [
        {
          "output_type": "stream",
          "text": [
            "摘了 Apple 摘了 2 個，總共摘了 2 個水果\n",
            "摘了Apple、摘了2,總共摘了2個水果\n"
          ],
          "name": "stdout"
        }
      ]
    },
    {
      "cell_type": "code",
      "metadata": {
        "colab": {
          "base_uri": "https://localhost:8080/"
        },
        "id": "K409WBKDg8bX",
        "outputId": "62543900-d68a-4ea1-e9c8-2e52b3b3e491"
      },
      "source": [
        "total = 0\n",
        "\n",
        "fruit = \"Peach\"\n",
        "number = 3\n",
        "total = total + number\n",
        "print(\"摘了\",fruit,\"摘了\",number,\"個，總共摘了\", total, \"個水果\")\n",
        "print(f\"摘了{fruit}、摘了{number},總共摘了{total}個水果\")"
      ],
      "execution_count": 18,
      "outputs": [
        {
          "output_type": "stream",
          "text": [
            "摘了 Peach 摘了 3 個，總共摘了 3 個水果\n",
            "摘了Peach、摘了3,總共摘了3個水果\n"
          ],
          "name": "stdout"
        }
      ]
    },
    {
      "cell_type": "code",
      "metadata": {
        "colab": {
          "base_uri": "https://localhost:8080/"
        },
        "id": "hCYvElh0iZdG",
        "outputId": "1759a0a7-5903-4edf-dd2e-862d1c9b6b4c"
      },
      "source": [
        "name = input(\"請問貴姓大名?\")\n",
        "print(\"你好\",name)"
      ],
      "execution_count": 36,
      "outputs": [
        {
          "output_type": "stream",
          "text": [
            "請問貴姓大名?甄\n",
            "你好 甄\n"
          ],
          "name": "stdout"
        }
      ]
    },
    {
      "cell_type": "code",
      "metadata": {
        "colab": {
          "base_uri": "https://localhost:8080/"
        },
        "id": "VyZhQurrjWQP",
        "outputId": "da72dba9-8309-4b05-b9ed-5f39ae3ec185"
      },
      "source": [
        "age = int(input(\"請問年紀?\"))\n",
        "print(\"原來你\",age,\"歲\")"
      ],
      "execution_count": 32,
      "outputs": [
        {
          "output_type": "stream",
          "text": [
            "請問年紀?18\n",
            "原來你 18 歲\n"
          ],
          "name": "stdout"
        }
      ]
    },
    {
      "cell_type": "code",
      "metadata": {
        "colab": {
          "base_uri": "https://localhost:8080/"
        },
        "id": "Z3KDehjYjddU",
        "outputId": "7af68bb3-3b3f-474b-9fa4-bab5a3d64ccc"
      },
      "source": [
        "weight = eval(input(\"請問體重?\"))\n",
        "(type(weight))\n",
        "print(\"體重為\",weight,\"kg\")"
      ],
      "execution_count": 34,
      "outputs": [
        {
          "output_type": "stream",
          "text": [
            "請問體重?10000\n",
            "體重為 10000 kg\n"
          ],
          "name": "stdout"
        }
      ]
    },
    {
      "cell_type": "code",
      "metadata": {
        "colab": {
          "base_uri": "https://localhost:8080/"
        },
        "id": "gXt_x6bNl3gE",
        "outputId": "434f0c04-b301-401d-f813-c03808d3ac19"
      },
      "source": [
        "## Input\n",
        "PI = 3.14\n",
        "r1 = input(\"Enter radius 1: \")\n",
        "r2 = input(\"Enter radius 2: \")\n",
        "r1 = float(r1)\n",
        "r2 = float(r2)\n",
        "\n",
        "## Process\n",
        "area1 = PI * r1 *r1\n",
        "area2 = PI * r2 *r2\n",
        "area3 = area1 - area2\n"
      ],
      "execution_count": 48,
      "outputs": [
        {
          "output_type": "stream",
          "text": [
            "Enter radius 1: 4\n",
            "Enter radius 2: 5\n"
          ],
          "name": "stdout"
        }
      ]
    },
    {
      "cell_type": "code",
      "metadata": {
        "colab": {
          "base_uri": "https://localhost:8080/"
        },
        "id": "y1dQGdqztQwy",
        "outputId": "eb8442f8-38d5-458c-e89c-e0ada81984b6"
      },
      "source": [
        "r1 = eval(input(\"輸入外圓的直徑:\"))\n",
        "r2 = eval(input(\"輸入內圓的直徑:\"))\n",
        "s1 = 3.14 * r1/2 * r1/2\n",
        "s2 = 3.14 * r2/2 * r2/2\n",
        "s3 = s1 - s2\n",
        "print(\"外圓面積為\",s1)\n",
        "print(\"內圓面積為\",s2)\n",
        "print(\"圓環面積為\",s3)"
      ],
      "execution_count": 54,
      "outputs": [
        {
          "output_type": "stream",
          "text": [
            "輸入外圓的直徑:5\n",
            "輸入內圓的直徑:60\n",
            "外圓面積為 19.625\n",
            "內圓面積為 2826.0\n",
            "圓環面積為 -2806.375\n"
          ],
          "name": "stdout"
        }
      ]
    },
    {
      "cell_type": "markdown",
      "metadata": {
        "id": "dSmO-K0hp5Nb"
      },
      "source": [
        "**隨堂練習：英制轉公制**"
      ]
    },
    {
      "cell_type": "code",
      "metadata": {
        "colab": {
          "base_uri": "https://localhost:8080/"
        },
        "id": "gy_I_bBRofJd",
        "outputId": "1288e693-12bc-483b-a0be-a5a54e175846"
      },
      "source": [
        "f = int(input(\"請輸入幾尺?\"))\n",
        "i = int(input(\"請輸入幾吋?\"))\n",
        "ans = (f*12+i)*2.54\n",
        "print(\"轉換成\",ans,\"公分\")"
      ],
      "execution_count": 46,
      "outputs": [
        {
          "output_type": "stream",
          "text": [
            "請輸入幾尺?100\n",
            "請輸入幾吋?5\n",
            "轉換成 3060.7 公分\n"
          ],
          "name": "stdout"
        }
      ]
    }
  ]
}